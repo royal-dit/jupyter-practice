{
 "cells": [
  {
   "cell_type": "code",
   "execution_count": 4,
   "id": "9cc12a77",
   "metadata": {},
   "outputs": [],
   "source": [
    "import numpy as np\n",
    "from matplotlib import pyplot as plt\n",
    "t = np.linspace(0,40,1000)\n"
   ]
  },
  {
   "cell_type": "code",
   "execution_count": 10,
   "id": "8ba38c43",
   "metadata": {},
   "outputs": [
    {
     "data": {
      "image/png": "[encoded data removed]",
      "text/plain": [
       "<Figure size 432x288 with 1 Axes>"
      ]
     },
     "metadata": {
      "needs_background": "light"
     },
     "output_type": "display_data"
    }
   ],
   "source": [
    "d_r = 2.5*t   #distance travelled by royal \n",
    "d_n = 3*(t-5)# distance traveled by ugesh\n",
    "fig,ax = plt.subplots()\n",
    "plt.title('market ')\n",
    "plt.xlabel('time in minuates')\n",
    "plt.ylabel('distance in km')\n",
    "ax.set_xlim([0,40]) #range we would like to plot x axis\n",
    "ax.set_ylim([0,100]) #range we would like to plot y axis\n",
    "ax.plot(t,d_r,color='green')\n",
    "ax.plot(t,d_n,color = 'brown')\n",
    "plt.axvline(x=30,color = 'purple',linestyle='--')\n",
    "_ = plt.axhline(y=75,color='purple',linestyle='--')\n"
   ]
  },
  {
   "cell_type": "code",
   "execution_count": 9,
   "id": "d5b7206f",
   "metadata": {},
   "outputs": [
    {
     "data": {
      "text/plain": [
       "torch.Size([])"
      ]
     },
     "execution_count": 9,
     "metadata": {},
     "output_type": "execute_result"
    }
   ],
   "source": [
    "import torch\n",
    "x_pt = torch.tensor(25)\n",
    "x_pt\n",
    "x_pt.shape"
   ]
  },
  {
   "cell_type": "code",
   "execution_count": 10,
   "id": "45224abe",
   "metadata": {},
   "outputs": [
    {
     "data": {
      "text/plain": [
       "TensorShape([])"
      ]
     },
     "execution_count": 10,
     "metadata": {},
     "output_type": "execute_result"
    }
   ],
   "source": [
    "import tensorflow as tf\n",
    "x_tf = tf.Variable(25,dtype=tf.int16) #dtype is optional\n",
    "x_tf.shape  # check dimensionality"
   ]
  },
  {
   "cell_type": "code",
   "execution_count": 11,
   "id": "5a9699df",
   "metadata": {},
   "outputs": [
    {
     "data": {
      "text/plain": [
       "28"
      ]
     },
     "execution_count": 11,
     "metadata": {},
     "output_type": "execute_result"
    }
   ],
   "source": [
    "\n",
    "y_tf = tf.Variable(3,dtype=tf.int16)\n",
    "x_tf + y_tf # use this method or\n",
    "tf_sum = tf.add(x_tf,y_tf) # use this method\n",
    "tf_sum\n",
    "tf_sum.numpy() #convert tensor flow to numpy arrays and vice versa\n",
    "# type(tf_sum.numpy)"
   ]
  },
  {
   "cell_type": "code",
   "execution_count": 14,
   "id": "ea335ce4",
   "metadata": {},
   "outputs": [],
   "source": [
    "import numpy as np \n",
    "x = np.array([25,2,5])\n"
   ]
  },
  {
   "cell_type": "code",
   "execution_count": 15,
   "id": "c445bceb",
   "metadata": {},
   "outputs": [
    {
     "data": {
      "text/plain": [
       "array([25,  2,  5])"
      ]
     },
     "execution_count": 15,
     "metadata": {},
     "output_type": "execute_result"
    }
   ],
   "source": [
    "x_t = x.T\n",
    "x_t"
   ]
  },
  {
   "cell_type": "code",
   "execution_count": 24,
   "id": "8e6dda61",
   "metadata": {},
   "outputs": [
    {
     "data": {
      "text/plain": [
       "array([[25],\n",
       "       [ 2],\n",
       "       [ 5]])"
      ]
     },
     "execution_count": 24,
     "metadata": {},
     "output_type": "execute_result"
    }
   ],
   "source": [
    "#from numpy\n",
    "y = np.array([[25,2,5]])\n",
    "y.shape #now this vector has 1 row 3 column\n",
    "y_t = y.T\n",
    "y_t\n"
   ]
  },
  {
   "cell_type": "code",
   "execution_count": 27,
   "id": "aa5ce67e",
   "metadata": {},
   "outputs": [
    {
     "data": {
      "text/plain": [
       "tensor([25,  2,  5])"
      ]
     },
     "execution_count": 27,
     "metadata": {},
     "output_type": "execute_result"
    }
   ],
   "source": [
    "#from Pytorch\n",
    "x_pt = torch.tensor([25,2,5])\n",
    "x_pt"
   ]
  },
  {
   "cell_type": "code",
   "execution_count": 28,
   "id": "ea1e402b",
   "metadata": {},
   "outputs": [
    {
     "data": {
      "text/plain": [
       "<tf.Variable 'Variable:0' shape=(3,) dtype=int32, numpy=array([25,  2,  5])>"
      ]
     },
     "execution_count": 28,
     "metadata": {},
     "output_type": "execute_result"
    }
   ],
   "source": [
    "#from tensor flow\n",
    "x_tf = tf.Variable([25,2,5])\n",
    "x_tf\n"
   ]
  },
  {
   "cell_type": "code",
   "execution_count": 9,
   "id": "7280c653",
   "metadata": {},
   "outputs": [
    {
     "data": {
      "text/plain": [
       "25.573423705088842"
      ]
     },
     "execution_count": 9,
     "metadata": {},
     "output_type": "execute_result"
    }
   ],
   "source": [
    "#norms and vectros\n",
    "x= ([25,2,5])\n",
    "(25**2+2**2+5**2)**(1/2) # if units in this 3-dimensional vectors space are meter then vector x has a length of 25.6m\n"
   ]
  },
  {
   "cell_type": "code",
   "execution_count": 11,
   "id": "701c5ef9",
   "metadata": {},
   "outputs": [
    {
     "data": {
      "text/plain": [
       "25.573423705088842"
      ]
     },
     "execution_count": 11,
     "metadata": {},
     "output_type": "execute_result"
    }
   ],
   "source": [
    "import numpy as np\n",
    "np.linalg.norm(x) # formula for finding the norm"
   ]
  },
  {
   "cell_type": "code",
   "execution_count": 3,
   "id": "0f98b1f1",
   "metadata": {},
   "outputs": [
    {
     "data": {
      "text/plain": [
       "0"
      ]
     },
     "execution_count": 3,
     "metadata": {},
     "output_type": "execute_result"
    }
   ],
   "source": [
    "#basis orthogonal and orthonormal\n",
    "import numpy as np\n",
    "i = np.array([1,0])\n",
    "j=np.array([0,1])\n",
    "np.dot(i,j)"
   ]
  },
  {
   "cell_type": "code",
   "execution_count": 1,
   "id": "2043b873",
   "metadata": {},
   "outputs": [
    {
     "data": {
      "text/plain": [
       "<tf.Variable 'Variable:0' shape=(3, 2) dtype=int32, numpy=\n",
       "array([[25,  2],\n",
       "       [ 5,  6],\n",
       "       [ 3,  7]])>"
      ]
     },
     "execution_count": 1,
     "metadata": {},
     "output_type": "execute_result"
    }
   ],
   "source": [
    "import tensorflow as tf\n",
    "x_tf = tf.Variable([[25,2],[5,6],[3,7]])\n",
    "\n",
    "x_tf"
   ]
  },
  {
   "cell_type": "code",
   "execution_count": 14,
   "id": "138dd5b0",
   "metadata": {},
   "outputs": [
    {
     "data": {
      "text/plain": [
       "<tf.Tensor: shape=(2, 3, 2, 2), dtype=float32, numpy=\n",
       "array([[[[0., 0.],\n",
       "         [0., 0.]],\n",
       "\n",
       "        [[0., 0.],\n",
       "         [0., 0.]],\n",
       "\n",
       "        [[0., 0.],\n",
       "         [0., 0.]]],\n",
       "\n",
       "\n",
       "       [[[0., 0.],\n",
       "         [0., 0.]],\n",
       "\n",
       "        [[0., 0.],\n",
       "         [0., 0.]],\n",
       "\n",
       "        [[0., 0.],\n",
       "         [0., 0.]]]], dtype=float32)>"
      ]
     },
     "execution_count": 14,
     "metadata": {},
     "output_type": "execute_result"
    }
   ],
   "source": [
    "from matplotlib import pyplot as plt\n",
    "import numpy as np\n",
    "import tensorflow as tf\n",
    "images_tf = tf.zeros([2,3,2,2])\n",
    "images_tf\n"
   ]
  },
  {
   "cell_type": "code",
   "execution_count": null,
   "id": "fc950dd0",
   "metadata": {},
   "outputs": [],
   "source": []
  }
 ],
 "metadata": {
  "kernelspec": {
   "display_name": "Python 3 (ipykernel)",
   "language": "python",
   "name": "python3"
  },
  "language_info": {
   "codemirror_mode": {
    "name": "ipython",
    "version": 3
   },
   "file_extension": ".py",
   "mimetype": "text/x-python",
   "name": "python",
   "nbconvert_exporter": "python",
   "pygments_lexer": "ipython3",
   "version": "3.10.4"
  }
 },
 "nbformat": 4,
 "nbformat_minor": 5
}
